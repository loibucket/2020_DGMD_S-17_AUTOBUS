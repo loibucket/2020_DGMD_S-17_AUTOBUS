{
 "cells": [
  {
   "cell_type": "code",
   "execution_count": 1,
   "metadata": {},
   "outputs": [
    {
     "name": "stdout",
     "output_type": "stream",
     "text": [
      "./combined_code/best_steering_model_xy--PoolTable400.pth.zip\n",
      "./training_data/collision_avoidance_dataset.zip\n",
      "./training_data/road_following_dataset_xy_2020-08-01_14-09-42--PoolTable400.zip\n",
      "./.git/objects/pack/pack-2ed1e89e837ffb38a35bdf222c050b83973a4cb4.pack\n"
     ]
    }
   ],
   "source": [
    "!find . -type f -size +5M"
   ]
  },
  {
   "cell_type": "code",
   "execution_count": 2,
   "metadata": {},
   "outputs": [],
   "source": [
    "#!ls -lR --block-size=MB"
   ]
  },
  {
   "cell_type": "code",
   "execution_count": 3,
   "metadata": {},
   "outputs": [
    {
     "name": "stdout",
     "output_type": "stream",
     "text": [
      ".:\n",
      "total 124K\n",
      "-rw-r--r-- 1 jetbot jetbot  51K Aug 19 08:00 files_check.ipynb\n",
      "-rw-r--r-- 1 jetbot jetbot  22K Aug 19 08:00 GANTT_Autobus_Jul20.xlsx\n",
      "-rw-r--r-- 1 jetbot jetbot 6.4K Aug 19 08:00 README.md\n",
      "-rw-r--r-- 1 jetbot jetbot 4.3K Aug 19 08:00 git_push.ipynb\n",
      "drwxr-xr-x 2 jetbot jetbot 4.0K Aug 19 08:00 camera_fix\n",
      "drwxr-xr-x 2 jetbot jetbot 4.0K Aug 19 08:00 collision_avoidance\n",
      "drwxr-xr-x 2 jetbot jetbot 4.0K Aug 19 08:00 color_detection\n",
      "drwxr-xr-x 3 jetbot jetbot 4.0K Aug 19 08:00 combined_code\n",
      "drwxr-xr-x 2 jetbot jetbot 4.0K Aug 19 08:00 rail_following_waveshare\n",
      "drwxr-xr-x 2 jetbot jetbot 4.0K Aug 19 08:00 training_data\n",
      "-rw-r--r-- 1 jetbot jetbot 3.5K Aug 19 08:00 Report2.md\n",
      "-rw-r--r-- 1 jetbot jetbot 3.0K Aug 19 08:00 Report1.md\n",
      "\n",
      "./camera_fix:\n",
      "total 108K\n",
      "-rwxr-xr-x 1 jetbot jetbot 88K Aug 19 08:00 camera_overrides.isp\n",
      "-rw-r--r-- 1 jetbot jetbot 13K Aug 19 08:00 Camera_overrides.tar.gz\n",
      "-rw-r--r-- 1 jetbot jetbot 107 Aug 19 08:00 fix_camera_tint.md\n",
      "\n",
      "./collision_avoidance:\n",
      "total 24K\n",
      "-rw-r--r-- 1 jetbot jetbot 9.5K Aug 19 08:00 collision_avoidance_live_demo.ipynb\n",
      "-rw-r--r-- 1 jetbot jetbot 8.8K Aug 19 08:00 train_model.ipynb\n",
      "\n",
      "./color_detection:\n",
      "total 24K\n",
      "-rw-r--r-- 1 jetbot jetbot 9.5K Aug 19 08:00 'Color_follower_sign (2).ipynb'\n",
      "-rw-r--r-- 1 jetbot jetbot 9.5K Aug 19 08:00 'Color_follower_sign (1).ipynb'\n",
      "\n",
      "./combined_code:\n",
      "total 40M\n",
      "-rw-r--r-- 1 jetbot jetbot  40M Aug 19 08:00 best_steering_model_xy--PoolTable400.pth.zip\n",
      "-rw-r--r-- 1 jetbot jetbot  41K Aug 19 08:00 autobus_live--Seeed-Waveshare-steer-obstacle-colors.ipynb\n",
      "-rw-r--r-- 1 jetbot jetbot  30K Aug 19 08:00 autobus_live.ipynb\n",
      "-rw-r--r-- 1 jetbot jetbot  16K Aug 19 08:00 PhilipAutobusFinal.ipynb\n",
      "drwxr-xr-x 2 jetbot jetbot 4.0K Aug 19 08:00 __previous_versions\n",
      "-rw-r--r-- 1 jetbot jetbot  375 Aug 19 08:00 large_files.md\n",
      "-rw-r--r-- 1 jetbot jetbot  192 Aug 19 08:00 best_obstacle_model--NVIDIA.pth.md\n",
      "\n",
      "./combined_code/__previous_versions:\n",
      "total 152K\n",
      "-rw-r--r-- 1 jetbot jetbot  37K Aug 19 08:00 autobus_live--Seeed-Waveshare-steer-obstacle-colors-Copy1.ipynb\n",
      "-rw-r--r-- 1 jetbot jetbot  35K Aug 19 08:00 autobus_live--Waveshare-steer-obstacle-colors.ipynb\n",
      "-rw-r--r-- 1 jetbot jetbot  28K Aug 19 08:00 autobus_live--Waveshare-steer-obstacle-colors-Copy1.ipynb\n",
      "-rw-r--r-- 1 jetbot jetbot  21K Aug 19 08:00 autobus_live--Waveshare-steer-obstacle.ipynb\n",
      "-rw-r--r-- 1 jetbot jetbot  18K Aug 19 08:00 autobus_live--Waveshare.ipynb\n",
      "-rw-r--r-- 1 jetbot jetbot 2.3K Aug 19 08:00 pseudocode_algo.ipynb\n",
      "\n",
      "./rail_following_waveshare:\n",
      "total 36K\n",
      "-rw-r--r-- 1 jetbot jetbot  15K Aug 19 08:00 live_demo.ipynb\n",
      "-rw-r--r-- 1 jetbot jetbot  12K Aug 19 08:00 train_model-DGMD.ipynb\n",
      "-rw-r--r-- 1 jetbot jetbot 7.4K Aug 19 08:00 data_collection-DGMD.ipynb\n",
      "\n",
      "./training_data:\n",
      "total 16M\n",
      "-rw-r--r-- 1 jetbot jetbot 9.5M Aug 19 08:00 road_following_dataset_xy_2020-08-01_14-09-42--PoolTable400.zip\n",
      "-rw-r--r-- 1 jetbot jetbot 6.4M Aug 19 08:00 collision_avoidance_dataset.zip\n"
     ]
    }
   ],
   "source": [
    "!ls -lhRS"
   ]
  }
 ],
 "metadata": {
  "kernelspec": {
   "display_name": "Python 3",
   "language": "python",
   "name": "python3"
  },
  "language_info": {
   "codemirror_mode": {
    "name": "ipython",
    "version": 3
   },
   "file_extension": ".py",
   "mimetype": "text/x-python",
   "name": "python",
   "nbconvert_exporter": "python",
   "pygments_lexer": "ipython3",
   "version": "3.6.9"
  }
 },
 "nbformat": 4,
 "nbformat_minor": 4
}
