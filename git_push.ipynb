{
 "cells": [
  {
   "cell_type": "markdown",
   "metadata": {},
   "source": [
    "### Lazy Git Push"
   ]
  },
  {
   "cell_type": "code",
   "execution_count": 9,
   "metadata": {},
   "outputs": [
    {
     "name": "stdout",
     "output_type": "stream",
     "text": [
      "From https://github.com/loibucket/autobus\n",
      " * branch            master     -> FETCH_HEAD\n"
     ]
    }
   ],
   "source": [
    "!git fetch origin master"
   ]
  },
  {
   "cell_type": "code",
   "execution_count": 10,
   "metadata": {},
   "outputs": [
    {
     "name": "stdout",
     "output_type": "stream",
     "text": [
      "On branch master\n",
      "Your branch is up to date with 'origin/master'.\n",
      "\n",
      "Changes not staged for commit:\n",
      "  (use \"git add/rm <file>...\" to update what will be committed)\n",
      "  (use \"git checkout -- <file>...\" to discard changes in working directory)\n",
      "\n",
      "\t\u001b[31mdeleted:    combined_code/Color_follower_sign (1).ipynb\u001b[m\n",
      "\t\u001b[31mdeleted:    combined_code/Color_follower_sign (2).ipynb\u001b[m\n",
      "\t\u001b[31mdeleted:    combined_code/autobus_live--Waveshare-steer-obstacle-colors.ipynb\u001b[m\n",
      "\t\u001b[31mdeleted:    combined_code/collision_avoidance_live_demo.ipynb\u001b[m\n",
      "\t\u001b[31mdeleted:    combined_code/pseudocode_algo.ipynb\u001b[m\n",
      "\t\u001b[31mdeleted:    combined_code/road_following_dataset_xy_2020-08-01_14-09-42--PoolTable400.zip\u001b[m\n",
      "\t\u001b[31mmodified:   git_push.ipynb\u001b[m\n",
      "\n",
      "Untracked files:\n",
      "  (use \"git add <file>...\" to include in what will be committed)\n",
      "\n",
      "\t\u001b[31mcollision_avoidance/\u001b[m\n",
      "\t\u001b[31mcolor_detection/\u001b[m\n",
      "\t\u001b[31mcombined_code/_previous_versions_/autobus_live--Waveshare-steer-obstacle-colors.ipynb\u001b[m\n",
      "\t\u001b[31mcombined_code/_previous_versions_/pseudocode_algo.ipynb\u001b[m\n",
      "\t\u001b[31mcombined_code/best_obstacle_model--NVIDIA.pth.md\u001b[m\n",
      "\n",
      "no changes added to commit (use \"git add\" and/or \"git commit -a\")\n"
     ]
    }
   ],
   "source": [
    "!git status"
   ]
  },
  {
   "cell_type": "code",
   "execution_count": 4,
   "metadata": {},
   "outputs": [],
   "source": [
    "!git add ."
   ]
  },
  {
   "cell_type": "code",
   "execution_count": 5,
   "metadata": {},
   "outputs": [
    {
     "name": "stdout",
     "output_type": "stream",
     "text": [
      "[master aa6def3] steer obstacle stop\n",
      " 5 files changed, 1202 insertions(+), 149 deletions(-)\n",
      " create mode 100644 combined_code/_previous_versions_/autobus_live--Seeed-Waveshare-steer-obstacle-colors-Copy1.ipynb\n"
     ]
    }
   ],
   "source": [
    "!git commit -m \"steer obstacle stop\""
   ]
  },
  {
   "cell_type": "code",
   "execution_count": 6,
   "metadata": {},
   "outputs": [
    {
     "name": "stdout",
     "output_type": "stream",
     "text": [
      "Counting objects: 8, done.\n",
      "Delta compression using up to 4 threads.\n",
      "Compressing objects: 100% (8/8), done.\n",
      "Writing objects: 100% (8/8), 3.54 KiB | 1.18 MiB/s, done.\n",
      "Total 8 (delta 7), reused 0 (delta 0)\n",
      "remote: Resolving deltas: 100% (7/7), completed with 7 local objects.\u001b[K\n",
      "To https://github.com/loibucket/autobus\n",
      "   8779547..aa6def3  master -> master\n"
     ]
    }
   ],
   "source": [
    "!git push origin master"
   ]
  },
  {
   "cell_type": "code",
   "execution_count": null,
   "metadata": {},
   "outputs": [],
   "source": []
  },
  {
   "cell_type": "code",
   "execution_count": null,
   "metadata": {},
   "outputs": [],
   "source": []
  },
  {
   "cell_type": "code",
   "execution_count": null,
   "metadata": {},
   "outputs": [],
   "source": []
  }
 ],
 "metadata": {
  "kernelspec": {
   "display_name": "Python 3",
   "language": "python",
   "name": "python3"
  },
  "language_info": {
   "codemirror_mode": {
    "name": "ipython",
    "version": 3
   },
   "file_extension": ".py",
   "mimetype": "text/x-python",
   "name": "python",
   "nbconvert_exporter": "python",
   "pygments_lexer": "ipython3",
   "version": "3.6.9"
  }
 },
 "nbformat": 4,
 "nbformat_minor": 4
}
