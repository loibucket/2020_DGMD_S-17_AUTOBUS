{
 "cells": [
  {
   "cell_type": "markdown",
   "metadata": {},
   "source": [
    "### Lazy Git Push"
   ]
  },
  {
   "cell_type": "code",
   "execution_count": 1,
   "metadata": {},
   "outputs": [
    {
     "name": "stdout",
     "output_type": "stream",
     "text": [
      "remote: Enumerating objects: 8, done.\u001b[K\n",
      "remote: Counting objects: 100% (8/8), done.\u001b[K\n",
      "remote: Compressing objects: 100% (6/6), done.\u001b[K\n",
      "remote: Total 6 (delta 4), reused 0 (delta 0), pack-reused 0\u001b[K\n",
      "Unpacking objects: 100% (6/6), done.\n",
      "From https://github.com/loibucket/autobus\n",
      " * branch            master     -> FETCH_HEAD\n",
      "   a95dabd..323c4d2  master     -> origin/master\n"
     ]
    }
   ],
   "source": [
    "!git fetch origin master"
   ]
  },
  {
   "cell_type": "code",
   "execution_count": 2,
   "metadata": {},
   "outputs": [
    {
     "name": "stdout",
     "output_type": "stream",
     "text": [
      "On branch master\n",
      "Your branch is behind 'origin/master' by 2 commits, and can be fast-forwarded.\n",
      "  (use \"git pull\" to update your local branch)\n",
      "\n",
      "Changes not staged for commit:\n",
      "  (use \"git add/rm <file>...\" to update what will be committed)\n",
      "  (use \"git checkout -- <file>...\" to discard changes in working directory)\n",
      "\n",
      "\t\u001b[31mmodified:   .gitignore\u001b[m\n",
      "\t\u001b[31mdeleted:    collision_avoidance/collision_avoidance_dataset.zip\u001b[m\n",
      "\t\u001b[31mdeleted:    combined_code/missing_files.md\u001b[m\n",
      "\t\u001b[31mmodified:   git_push.ipynb\u001b[m\n",
      "\t\u001b[31mdeleted:    rail_following_waveshare/__archives__/live_demo-DGMD--20200729.html\u001b[m\n",
      "\t\u001b[31mdeleted:    rail_following_waveshare/__archives__/live_demo-DGMD--PoolTable1.ipynb\u001b[m\n",
      "\t\u001b[31mdeleted:    rail_following_waveshare/__archives__/live_demo-DGMD--PoolTable2.ipynb\u001b[m\n",
      "\t\u001b[31mdeleted:    rail_following_waveshare/__archives__/live_demo-DGMD--TileFloor.ipynb\u001b[m\n",
      "\t\u001b[31mdeleted:    rail_following_waveshare/__archives__/road_following_dataset_xy_2020-07-20_17-58-24--OrangeExtCord.zip\u001b[m\n",
      "\t\u001b[31mdeleted:    rail_following_waveshare/__archives__/road_following_dataset_xy_2020-07-27_19-43-48--BlueTapeFloor.zip\u001b[m\n",
      "\t\u001b[31mdeleted:    rail_following_waveshare/__archives__/road_following_dataset_xy_2020-07-29_18-01-35--BlueTapePoolTblDay.zip\u001b[m\n",
      "\t\u001b[31mdeleted:    rail_following_waveshare/__archives__/road_following_dataset_xy_2020-07-29_19-49-21--BlueTapePoolDusk.zip\u001b[m\n",
      "\t\u001b[31mdeleted:    rail_following_waveshare/__archives__/road_following_dataset_xy_2020-07-29_22-59-30--BlueTapePoolNight.zip\u001b[m\n",
      "\t\u001b[31mdeleted:    rail_following_waveshare/__archives__/road_following_dataset_xy_2020-07-30_11-32-11--BlueTapePoolMorning.zip\u001b[m\n",
      "\t\u001b[31mdeleted:    rail_following_waveshare/__archives__/road_following_dataset_xy_2020-07-30_17-25-57--PoolTable300.zip\u001b[m\n",
      "\t\u001b[31mdeleted:    rail_following_waveshare/road_following_dataset_xy_2020-08-01_14-09-42--PoolTable400.zip\u001b[m\n",
      "\n",
      "Untracked files:\n",
      "  (use \"git add <file>...\" to include in what will be committed)\n",
      "\n",
      "\t\u001b[31mcombined_code/large_files.md\u001b[m\n",
      "\t\u001b[31mtraining_data/\u001b[m\n",
      "\n",
      "no changes added to commit (use \"git add\" and/or \"git commit -a\")\n"
     ]
    }
   ],
   "source": [
    "!git status"
   ]
  },
  {
   "cell_type": "code",
   "execution_count": 18,
   "metadata": {},
   "outputs": [],
   "source": [
    "!git add ."
   ]
  },
  {
   "cell_type": "code",
   "execution_count": 19,
   "metadata": {},
   "outputs": [
    {
     "name": "stdout",
     "output_type": "stream",
     "text": [
      "[master a95dabd] camera fix\n",
      " 4 files changed, 34 insertions(+), 15 deletions(-)\n",
      " rename Camera_overrides.tar.gz => camera_fix/Camera_overrides.tar.gz (100%)\n",
      " rename camera_overrides.isp => camera_fix/camera_overrides.isp (100%)\n",
      " create mode 100644 camera_fix/fix_camera_tint.md\n"
     ]
    }
   ],
   "source": [
    "!git commit -m \"camera fix\""
   ]
  },
  {
   "cell_type": "code",
   "execution_count": 20,
   "metadata": {},
   "outputs": [
    {
     "name": "stdout",
     "output_type": "stream",
     "text": [
      "Counting objects: 5, done.\n",
      "Delta compression using up to 4 threads.\n",
      "Compressing objects: 100% (5/5), done.\n",
      "Writing objects: 100% (5/5), 1.09 KiB | 1.09 MiB/s, done.\n",
      "Total 5 (delta 2), reused 0 (delta 0)\n",
      "remote: Resolving deltas: 100% (2/2), completed with 2 local objects.\u001b[K\n",
      "To https://github.com/loibucket/autobus\n",
      "   672a83b..a95dabd  master -> master\n"
     ]
    }
   ],
   "source": [
    "!git push origin master"
   ]
  },
  {
   "cell_type": "code",
   "execution_count": null,
   "metadata": {},
   "outputs": [],
   "source": []
  },
  {
   "cell_type": "code",
   "execution_count": null,
   "metadata": {},
   "outputs": [],
   "source": []
  },
  {
   "cell_type": "code",
   "execution_count": null,
   "metadata": {},
   "outputs": [],
   "source": []
  },
  {
   "cell_type": "code",
   "execution_count": null,
   "metadata": {},
   "outputs": [],
   "source": []
  }
 ],
 "metadata": {
  "kernelspec": {
   "display_name": "Python 3",
   "language": "python",
   "name": "python3"
  },
  "language_info": {
   "codemirror_mode": {
    "name": "ipython",
    "version": 3
   },
   "file_extension": ".py",
   "mimetype": "text/x-python",
   "name": "python",
   "nbconvert_exporter": "python",
   "pygments_lexer": "ipython3",
   "version": "3.6.9"
  }
 },
 "nbformat": 4,
 "nbformat_minor": 4
}
