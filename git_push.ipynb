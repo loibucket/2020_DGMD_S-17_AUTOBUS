{
 "cells": [
  {
   "cell_type": "markdown",
   "metadata": {},
   "source": [
    "### Lazy Git Push"
   ]
  },
  {
   "cell_type": "code",
   "execution_count": 1,
   "metadata": {},
   "outputs": [
    {
     "name": "stdout",
     "output_type": "stream",
     "text": [
      "On branch master\n",
      "Your branch is up to date with 'origin/master'.\n",
      "\n",
      "Changes not staged for commit:\n",
      "  (use \"git add/rm <file>...\" to update what will be committed)\n",
      "  (use \"git checkout -- <file>...\" to discard changes in working directory)\n",
      "\n",
      "\t\u001b[31mmodified:   combined_code/Color_follower_sign (1).ipynb\u001b[m\n",
      "\t\u001b[31mmodified:   combined_code/autobus_live--Waveshare-steer-obstacle-colors.ipynb\u001b[m\n",
      "\t\u001b[31mdeleted:    combined_code/autobus_live--Waveshare-steer-obstacle.ipynb\u001b[m\n",
      "\t\u001b[31mdeleted:    combined_code/autobus_live--Waveshare.ipynb\u001b[m\n",
      "\n",
      "Untracked files:\n",
      "  (use \"git add <file>...\" to include in what will be committed)\n",
      "\n",
      "\t\u001b[31mcombined_code/Color_follower_sign (2).ipynb\u001b[m\n",
      "\t\u001b[31mcombined_code/_previous_versions_/\u001b[m\n",
      "\t\u001b[31mcombined_code/autobus_live--Seeed-Waveshare-steer-obstacle-colors.ipynb\u001b[m\n",
      "\n",
      "no changes added to commit (use \"git add\" and/or \"git commit -a\")\n"
     ]
    }
   ],
   "source": [
    "!git status"
   ]
  },
  {
   "cell_type": "code",
   "execution_count": 2,
   "metadata": {},
   "outputs": [],
   "source": [
    "!git add ."
   ]
  },
  {
   "cell_type": "code",
   "execution_count": 3,
   "metadata": {},
   "outputs": [
    {
     "name": "stdout",
     "output_type": "stream",
     "text": [
      "[master 9f59612] steer obstacle stop\n",
      " 7 files changed, 2162 insertions(+), 127 deletions(-)\n",
      " create mode 100644 combined_code/Color_follower_sign (2).ipynb\n",
      " create mode 100644 combined_code/_previous_versions_/autobus_live--Waveshare-steer-obstacle-colors-Copy1.ipynb\n",
      " rename combined_code/{ => _previous_versions_}/autobus_live--Waveshare-steer-obstacle.ipynb (100%)\n",
      " rename combined_code/{ => _previous_versions_}/autobus_live--Waveshare.ipynb (100%)\n",
      " create mode 100644 combined_code/autobus_live--Seeed-Waveshare-steer-obstacle-colors.ipynb\n"
     ]
    }
   ],
   "source": [
    "!git commit -m \"steer obstacle stop\""
   ]
  },
  {
   "cell_type": "code",
   "execution_count": 4,
   "metadata": {},
   "outputs": [
    {
     "name": "stdout",
     "output_type": "stream",
     "text": [
      "Counting objects: 9, done.\n",
      "Delta compression using up to 4 threads.\n",
      "Compressing objects: 100% (9/9), done.\n",
      "Writing objects: 100% (9/9), 12.56 KiB | 1.79 MiB/s, done.\n",
      "Total 9 (delta 7), reused 0 (delta 0)\n",
      "remote: Resolving deltas: 100% (7/7), completed with 3 local objects.\u001b[K\n",
      "To https://github.com/loibucket/autobus\n",
      "   f6c81ee..9f59612  master -> master\n"
     ]
    }
   ],
   "source": [
    "!git push origin master"
   ]
  },
  {
   "cell_type": "code",
   "execution_count": null,
   "metadata": {},
   "outputs": [],
   "source": []
  }
 ],
 "metadata": {
  "kernelspec": {
   "display_name": "Python 3",
   "language": "python",
   "name": "python3"
  },
  "language_info": {
   "codemirror_mode": {
    "name": "ipython",
    "version": 3
   },
   "file_extension": ".py",
   "mimetype": "text/x-python",
   "name": "python",
   "nbconvert_exporter": "python",
   "pygments_lexer": "ipython3",
   "version": "3.6.9"
  }
 },
 "nbformat": 4,
 "nbformat_minor": 4
}
