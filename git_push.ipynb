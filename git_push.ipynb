{
 "cells": [
  {
   "cell_type": "markdown",
   "metadata": {},
   "source": [
    "### Lazy Git Push"
   ]
  },
  {
   "cell_type": "code",
   "execution_count": 8,
   "metadata": {},
   "outputs": [
    {
     "name": "stdout",
     "output_type": "stream",
     "text": [
      "From https://github.com/loibucket/autobus\n",
      " * branch            master     -> FETCH_HEAD\n"
     ]
    }
   ],
   "source": [
    "!git fetch origin master"
   ]
  },
  {
   "cell_type": "code",
   "execution_count": 9,
   "metadata": {},
   "outputs": [
    {
     "name": "stdout",
     "output_type": "stream",
     "text": [
      "On branch master\n",
      "Your branch is up to date with 'origin/master'.\n",
      "\n",
      "Changes not staged for commit:\n",
      "  (use \"git add/rm <file>...\" to update what will be committed)\n",
      "  (use \"git checkout -- <file>...\" to discard changes in working directory)\n",
      "\n",
      "\t\u001b[31mdeleted:    combined_code/_previous_versions_/autobus_live--Seeed-Waveshare-steer-obstacle-colors-Copy1.ipynb\u001b[m\n",
      "\t\u001b[31mdeleted:    combined_code/_previous_versions_/autobus_live--Waveshare-steer-obstacle-colors-Copy1.ipynb\u001b[m\n",
      "\t\u001b[31mdeleted:    combined_code/_previous_versions_/autobus_live--Waveshare-steer-obstacle-colors.ipynb\u001b[m\n",
      "\t\u001b[31mdeleted:    combined_code/_previous_versions_/autobus_live--Waveshare-steer-obstacle.ipynb\u001b[m\n",
      "\t\u001b[31mdeleted:    combined_code/_previous_versions_/autobus_live--Waveshare.ipynb\u001b[m\n",
      "\t\u001b[31mdeleted:    combined_code/_previous_versions_/pseudocode_algo.ipynb\u001b[m\n",
      "\n",
      "Untracked files:\n",
      "  (use \"git add <file>...\" to include in what will be committed)\n",
      "\n",
      "\t\u001b[31mcombined_code/__previous_versions/\u001b[m\n",
      "\n",
      "no changes added to commit (use \"git add\" and/or \"git commit -a\")\n"
     ]
    }
   ],
   "source": [
    "!git status"
   ]
  },
  {
   "cell_type": "code",
   "execution_count": 10,
   "metadata": {},
   "outputs": [],
   "source": [
    "!git add ."
   ]
  },
  {
   "cell_type": "code",
   "execution_count": 11,
   "metadata": {},
   "outputs": [
    {
     "name": "stdout",
     "output_type": "stream",
     "text": [
      "[master 5c12914] training data\n",
      " 6 files changed, 0 insertions(+), 0 deletions(-)\n",
      " rename combined_code/{_previous_versions_ => __previous_versions}/autobus_live--Seeed-Waveshare-steer-obstacle-colors-Copy1.ipynb (100%)\n",
      " rename combined_code/{_previous_versions_ => __previous_versions}/autobus_live--Waveshare-steer-obstacle-colors-Copy1.ipynb (100%)\n",
      " rename combined_code/{_previous_versions_ => __previous_versions}/autobus_live--Waveshare-steer-obstacle-colors.ipynb (100%)\n",
      " rename combined_code/{_previous_versions_ => __previous_versions}/autobus_live--Waveshare-steer-obstacle.ipynb (100%)\n",
      " rename combined_code/{_previous_versions_ => __previous_versions}/autobus_live--Waveshare.ipynb (100%)\n",
      " rename combined_code/{_previous_versions_ => __previous_versions}/pseudocode_algo.ipynb (100%)\n"
     ]
    }
   ],
   "source": [
    "!git commit -m \"training data\""
   ]
  },
  {
   "cell_type": "code",
   "execution_count": 12,
   "metadata": {},
   "outputs": [
    {
     "name": "stdout",
     "output_type": "stream",
     "text": [
      "Counting objects: 3, done.\n",
      "Delta compression using up to 4 threads.\n",
      "Compressing objects: 100% (3/3), done.\n",
      "Writing objects: 100% (3/3), 306 bytes | 306.00 KiB/s, done.\n",
      "Total 3 (delta 2), reused 0 (delta 0)\n",
      "remote: Resolving deltas: 100% (2/2), completed with 2 local objects.\u001b[K\n",
      "To https://github.com/loibucket/autobus\n",
      "   b0ab56e..5c12914  master -> master\n"
     ]
    }
   ],
   "source": [
    "!git push origin master"
   ]
  }
 ],
 "metadata": {
  "kernelspec": {
   "display_name": "Python 3",
   "language": "python",
   "name": "python3"
  },
  "language_info": {
   "codemirror_mode": {
    "name": "ipython",
    "version": 3
   },
   "file_extension": ".py",
   "mimetype": "text/x-python",
   "name": "python",
   "nbconvert_exporter": "python",
   "pygments_lexer": "ipython3",
   "version": "3.6.9"
  }
 },
 "nbformat": 4,
 "nbformat_minor": 4
}
