{
 "cells": [
  {
   "cell_type": "code",
   "execution_count": 1,
   "metadata": {},
   "outputs": [],
   "source": [
    "#Philip Eisner's Sign Algorithm\n",
    "\n",
    "#Setup\n",
    "import torchvision\n",
    "import torch\n",
    "import numpy as np\n",
    "import cv2\n",
    "\n",
    "model = torchvision.models.resnet18(pretrained=False)\n",
    "model.fc = torch.nn.Linear(512, 2)\n",
    "\n",
    "model.load_state_dict(torch.load('best_steering_model_xy.pth'))\n",
    "\n",
    "device = torch.device('cuda')\n",
    "model = model.to(device)\n",
    "model = model.eval().half()\n",
    "\n",
    "import torchvision.transforms as transforms\n",
    "import torch.nn.functional as F\n",
    "import cv2\n",
    "import PIL.Image\n",
    "import numpy as np\n",
    "\n",
    "mean = torch.Tensor([0.485, 0.456, 0.406]).cuda().half()\n",
    "std = torch.Tensor([0.229, 0.224, 0.225]).cuda().half()\n",
    "\n",
    "def preprocess(image):\n",
    "    image = PIL.Image.fromarray(image)\n",
    "    image = transforms.functional.to_tensor(image).to(device).half()\n",
    "    image.sub_(mean[:, None, None]).div_(std[:, None, None])\n",
    "    return image[None, ...]"
   ]
  },
  {
   "cell_type": "code",
   "execution_count": 2,
   "metadata": {},
   "outputs": [
    {
     "data": {
      "application/vnd.jupyter.widget-view+json": {
       "model_id": "9d06cf7c157f4b269c5655b262b1d0b0",
       "version_major": 2,
       "version_minor": 0
      },
      "text/plain": [
       "Image(value=b'\\xff\\xd8\\xff\\xe0\\x00\\x10JFIF\\x00\\x01\\x01\\x00\\x00\\x01\\x00\\x01\\x00\\x00\\xff\\xdb\\x00C\\x00\\x02\\x01\\x0…"
      ]
     },
     "metadata": {},
     "output_type": "display_data"
    }
   ],
   "source": [
    "#Camera Creation\n",
    "\n",
    "from IPython.display import display\n",
    "import ipywidgets\n",
    "import traitlets\n",
    "from jetbot import Camera, bgr8_to_jpeg\n",
    "\n",
    "camera = Camera.instance(width=224, height=224, fps=5)\n",
    "\n",
    "image_widget = ipywidgets.Image()\n",
    "\n",
    "traitlets.dlink((camera, 'value'), (image_widget, 'value'), transform=bgr8_to_jpeg)\n",
    "\n",
    "display(image_widget)"
   ]
  },
  {
   "cell_type": "code",
   "execution_count": 3,
   "metadata": {},
   "outputs": [
    {
     "data": {
      "application/vnd.jupyter.widget-view+json": {
       "model_id": "24074f613f4e44038cd11b14b2a3e26a",
       "version_major": 2,
       "version_minor": 0
      },
      "text/plain": [
       "FloatSlider(value=0.0, description='speed gain', max=1.0, step=0.01)"
      ]
     },
     "metadata": {},
     "output_type": "display_data"
    },
    {
     "data": {
      "application/vnd.jupyter.widget-view+json": {
       "model_id": "6a6e0f8206cc4d4097a088319146571f",
       "version_major": 2,
       "version_minor": 0
      },
      "text/plain": [
       "FloatSlider(value=0.2, description='steering gain', max=1.0, step=0.01)"
      ]
     },
     "metadata": {},
     "output_type": "display_data"
    },
    {
     "data": {
      "application/vnd.jupyter.widget-view+json": {
       "model_id": "beaae50bf54c4344af16217a857ae434",
       "version_major": 2,
       "version_minor": 0
      },
      "text/plain": [
       "FloatSlider(value=0.0, description='steering kd', max=0.5, step=0.001)"
      ]
     },
     "metadata": {},
     "output_type": "display_data"
    },
    {
     "data": {
      "application/vnd.jupyter.widget-view+json": {
       "model_id": "2127d1cec1314f97b21c875a0803a18e",
       "version_major": 2,
       "version_minor": 0
      },
      "text/plain": [
       "FloatSlider(value=0.0, description='steering bias', max=0.3, min=-0.3, step=0.01)"
      ]
     },
     "metadata": {},
     "output_type": "display_data"
    }
   ],
   "source": [
    "#Speed and turn control - For Philip's Jetbot set to 0.3 speed and 0.1 steering gain\n",
    "\n",
    "from jetbot import Robot\n",
    "\n",
    "robot = Robot()\n",
    "\n",
    "speed_gain_slider = ipywidgets.FloatSlider(min=0.0, max=1.0, step=0.01, description='speed gain')\n",
    "steering_gain_slider = ipywidgets.FloatSlider(min=0.0, max=1.0, step=0.01, value=0.2, description='steering gain')\n",
    "steering_dgain_slider = ipywidgets.FloatSlider(min=0.0, max=0.5, step=0.001, value=0.0, description='steering kd')\n",
    "steering_bias_slider = ipywidgets.FloatSlider(min=-0.3, max=0.3, step=0.01, value=0.0, description='steering bias')\n",
    "\n",
    "display(speed_gain_slider, steering_gain_slider, steering_dgain_slider, steering_bias_slider)"
   ]
  },
  {
   "cell_type": "code",
   "execution_count": 4,
   "metadata": {},
   "outputs": [
    {
     "data": {
      "application/vnd.jupyter.widget-view+json": {
       "model_id": "92a6dc2379b04af993294b2550f3b9b6",
       "version_major": 2,
       "version_minor": 0
      },
      "text/plain": [
       "HBox(children=(FloatSlider(value=0.0, description='y', max=1.0, orientation='vertical'), FloatSlider(value=0.0…"
      ]
     },
     "metadata": {},
     "output_type": "display_data"
    },
    {
     "data": {
      "application/vnd.jupyter.widget-view+json": {
       "model_id": "3d97d67f4c0a483296cfad4a39a89f47",
       "version_major": 2,
       "version_minor": 0
      },
      "text/plain": [
       "FloatSlider(value=0.0, description='x', max=1.0, min=-1.0)"
      ]
     },
     "metadata": {},
     "output_type": "display_data"
    },
    {
     "data": {
      "application/vnd.jupyter.widget-view+json": {
       "model_id": "7d940f98b0cf4b81ab67cb8b85b870d3",
       "version_major": 2,
       "version_minor": 0
      },
      "text/plain": [
       "FloatSlider(value=0.0, description='steering', max=1.0, min=-1.0)"
      ]
     },
     "metadata": {},
     "output_type": "display_data"
    }
   ],
   "source": [
    "#Robot steering sliders\n",
    "\n",
    "x_slider = ipywidgets.FloatSlider(min=-1.0, max=1.0, description='x')\n",
    "y_slider = ipywidgets.FloatSlider(min=0, max=1.0, orientation='vertical', description='y')\n",
    "steering_slider = ipywidgets.FloatSlider(min=-1.0, max=1.0, description='steering')\n",
    "speed_slider = ipywidgets.FloatSlider(min=0, max=1.0, orientation='vertical', description='speed')\n",
    "\n",
    "display(ipywidgets.HBox([y_slider, speed_slider]))\n",
    "display(x_slider, steering_slider)"
   ]
  },
  {
   "cell_type": "code",
   "execution_count": 5,
   "metadata": {},
   "outputs": [
    {
     "data": {
      "application/vnd.jupyter.widget-view+json": {
       "model_id": "5f37ef3272af4913b3c0fb641bbf0f7f",
       "version_major": 2,
       "version_minor": 0
      },
      "text/plain": [
       "FloatSlider(value=0.0, description='red', max=1.0)"
      ]
     },
     "metadata": {},
     "output_type": "display_data"
    },
    {
     "data": {
      "application/vnd.jupyter.widget-view+json": {
       "model_id": "c7b59c6d0ade494c9aba833210484020",
       "version_major": 2,
       "version_minor": 0
      },
      "text/plain": [
       "FloatSlider(value=0.0, description='yellow', max=1.0)"
      ]
     },
     "metadata": {},
     "output_type": "display_data"
    },
    {
     "data": {
      "application/vnd.jupyter.widget-view+json": {
       "model_id": "2c21f142fe40480a8a98c01520e32ee8",
       "version_major": 2,
       "version_minor": 0
      },
      "text/plain": [
       "FloatSlider(value=0.0, description='green', max=1.0)"
      ]
     },
     "metadata": {},
     "output_type": "display_data"
    }
   ],
   "source": [
    "#Color detection sliders\n",
    "\n",
    "red_slider = ipywidgets.FloatSlider(min=0, max=1.0, description='red')\n",
    "display(red_slider)\n",
    "yellow_slider = ipywidgets.FloatSlider(min=0, max=1.0, description='yellow')\n",
    "display(yellow_slider)\n",
    "green_slider = ipywidgets.FloatSlider(min=0, max=1.0, description='green')\n",
    "display(green_slider)"
   ]
  },
  {
   "cell_type": "code",
   "execution_count": 6,
   "metadata": {},
   "outputs": [],
   "source": [
    "#Main Camera update\n",
    "\n",
    "angle = 0.0\n",
    "angle_last = 0.0\n",
    "\n",
    "import time\n",
    "#Setup global variables\n",
    "isGreen = False\n",
    "isYellow = False\n",
    "isGreen2 = False\n",
    "isGreen3 = False\n",
    "isYellow2 = False\n",
    "\n",
    "greenCount = 0\n",
    "greenCount2 = 0\n",
    "greenCount3 = 0\n",
    "yellowCount = 0\n",
    "yellowCount2 = 0\n",
    "def execute(change):\n",
    "    #More setup\n",
    "    global angle, angle_last\n",
    "    global isGreen\n",
    "    global isGreen2\n",
    "    global isGreen3\n",
    "    global isYellow\n",
    "    global isYellow2\n",
    "    global greenCount, yellowCount, greenCount2, greenCount3, yellowCount2\n",
    "    image = change['new']\n",
    "    xy = model(preprocess(image)).detach().float().cpu().numpy().flatten()\n",
    "    x = xy[0]\n",
    "    y = (0.5 - xy[1]) / 2.0\n",
    "    \n",
    "    x_slider.value = x\n",
    "    y_slider.value = y\n",
    "    \n",
    "    speed_slider.value = speed_gain_slider.value\n",
    "    \n",
    "    angle = np.arctan2(x, y)\n",
    "    pid = angle * steering_gain_slider.value + (angle - angle_last) * steering_dgain_slider.value\n",
    "    angle_last = angle\n",
    "    \n",
    "    steering_slider.value = pid + steering_bias_slider.value\n",
    "    \n",
    "    #red detection\n",
    "    #cv2 hsv range for h is 0-180 instead of conventional 360, this caused issues and has been resolved\n",
    "    hsv = cv2.cvtColor(image, cv2.COLOR_BGR2HSV) \n",
    "    #lower_red1 = np.array([0,127,114]) \n",
    "    lower_red1 = np.array([0,127,114])\n",
    "    #upper_red1 = np.array([15,204,166])\n",
    "    upper_red1 = np.array([8,204,166])\n",
    "    #lower_red2 = np.array([345,127,114])\n",
    "    lower_red2 = np.array([173,127,114]) \n",
    "    #upper_red2 = np.array([360,204,166])\n",
    "    upper_red2 = np.array([180,204,166])\n",
    "    mask2 = cv2.inRange(hsv, lower_red2, upper_red2)\n",
    "    mask1 = cv2.inRange(hsv, lower_red1, upper_red1)\n",
    "    frac_red = sum(sum(mask1))/np.size(mask1)\n",
    "    frac_red2 = sum(sum(mask2))/np.size(mask2)\n",
    "    frac_red = frac_red+frac_red2\n",
    "    \n",
    "    #yellow detection\n",
    "    #lower_yellow1 = np.array([45, 127, 102])\n",
    "    lower_yellow1 = np.array([22, 127, 102])\n",
    "    #upper_yellow1 = np.array([60, 255, 153])\n",
    "    upper_yellow1 = np.array([30, 255, 153])\n",
    "    mask3 = cv2.inRange(hsv, lower_yellow1, upper_yellow1)\n",
    "    frac_yellow = sum(sum(mask3))/np.size(mask3)\n",
    "    \n",
    "    #green detection\n",
    "    #lower_green1 = np.array([115, 102, 102])\n",
    "    lower_green1 = np.array([57, 102, 102])\n",
    "    #upper_green1 = np.array([150, 255, 153])\n",
    "    upper_green1 = np.array([75, 255, 153])\n",
    "    mask4 = cv2.inRange(hsv, lower_green1, upper_green1)\n",
    "    frac_green = sum(sum(mask4))/np.size(mask4)\n",
    "    \n",
    "    #update sliders\n",
    "    red_slider.value = frac_red\n",
    "    yellow_slider.value = frac_yellow\n",
    "    green_slider.value = frac_green\n",
    "    \n",
    "    #Do something based off color, green and yellow are VERY hacky but I couldn't find a way to keep frames from building up during time.sleep so here we are\n",
    "    #It basically checks for the color, and then will run the motors for some number of frames\n",
    "    #It then will update the state booleans to match what it is doing\n",
    "    #Red is just stop, green pulls over for a passenger and waits, yellow performs a U-Turn\n",
    "    if (frac_red > 0.35):\n",
    "        robot.stop()\n",
    "    elif (frac_green > 0.20 and isGreen == False and isGreen2 == False and isGreen3 == False and isYellow == False and isYellow2 == False):\n",
    "        isGreen = True\n",
    "        robot.stop()\n",
    "        #print(\"set green true\")\n",
    "    elif (isYellow == False and frac_yellow > 0.20 and isGreen2 == False and isGreen3 == False and isGreen == False and isYellow2 == False):\n",
    "        #print(\"setYellow\")\n",
    "        isYellow = True\n",
    "    elif (isGreen == False and isYellow == False and isGreen2 == False and isGreen3 == False and isYellow2 == False):\n",
    "        #print(\"driving\")\n",
    "        robot.left_motor.value = max(min(speed_slider.value + steering_slider.value, 1.0), 0.0)\n",
    "        robot.right_motor.value = max(min(speed_slider.value - steering_slider.value, 1.0), 0.0)\n",
    "    elif (isGreen == True):\n",
    "        robot.right_motor.value = 0.4\n",
    "        robot.left_motor.value = 0.1\n",
    "        greenCount += 1\n",
    "        #print(\"turning left\")\n",
    "        if(greenCount > 5):\n",
    "            #print(\"finished left\")\n",
    "            greenCount = 0\n",
    "            isGreen = False\n",
    "            isGreen2 = True\n",
    "            robot.stop()\n",
    "    elif (isGreen2 == True):\n",
    "        #print(\"sitting\")\n",
    "        robot.right_motor.value = 0\n",
    "        robot.left_motor.value = 0\n",
    "        greenCount2 += 1\n",
    "        if(greenCount2 > 40):\n",
    "            isGreen2 = False\n",
    "            isGreen3 = True\n",
    "            robot.stop()\n",
    "    elif (isGreen3 == True):\n",
    "        #print(\"turning right\")\n",
    "        robot.right_motor.value = 0.1\n",
    "        robot.left_motor.value = 0.55\n",
    "        greenCount += 1\n",
    "        if(greenCount > 5):\n",
    "            greenCount = 0\n",
    "            isGreen3 = False\n",
    "            robot.stop()\n",
    "    elif (isYellow == True):\n",
    "        robot.right_motor.value = 0.6\n",
    "        robot.left_motor.value = 0.1\n",
    "        #print(\"uturn\")\n",
    "        yellowCount += 1\n",
    "        if(yellowCount > 10):\n",
    "            yellowCount = 0\n",
    "            isYellow = False\n",
    "            isYellow2 = True\n",
    "            robot.stop()\n",
    "    elif(isYellow2 == True):\n",
    "        robot.right_motor.value = 0.3\n",
    "        robot.left_motor.value = 0.3\n",
    "        yellowCount2 += 1\n",
    "        if(yellowCount2 > 3):\n",
    "            yellowCount2 = 0\n",
    "            isYellow2 = False\n",
    "    \n",
    "execute({'new': camera.value})"
   ]
  },
  {
   "cell_type": "code",
   "execution_count": 7,
   "metadata": {},
   "outputs": [],
   "source": [
    "camera.observe(execute, names='value')"
   ]
  },
  {
   "cell_type": "code",
   "execution_count": 8,
   "metadata": {},
   "outputs": [],
   "source": [
    "camera.unobserve(execute, names='value')\n",
    "\n",
    "time.sleep(0.1)  # add a small sleep to make sure frames have finished processing\n",
    "\n",
    "robot.stop()"
   ]
  },
  {
   "cell_type": "code",
   "execution_count": null,
   "metadata": {},
   "outputs": [],
   "source": []
  }
 ],
 "metadata": {
  "kernelspec": {
   "display_name": "Python 3",
   "language": "python",
   "name": "python3"
  },
  "language_info": {
   "codemirror_mode": {
    "name": "ipython",
    "version": 3
   },
   "file_extension": ".py",
   "mimetype": "text/x-python",
   "name": "python",
   "nbconvert_exporter": "python",
   "pygments_lexer": "ipython3",
   "version": "3.6.9"
  }
 },
 "nbformat": 4,
 "nbformat_minor": 4
}
