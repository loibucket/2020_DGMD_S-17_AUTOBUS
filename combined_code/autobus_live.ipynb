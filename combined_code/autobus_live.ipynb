{
 "cells": [
  {
   "cell_type": "markdown",
   "metadata": {},
   "source": [
    "# AUTOBUS - Live demo"
   ]
  },
  {
   "cell_type": "markdown",
   "metadata": {},
   "source": [
    "### Instructions\n",
    "1. Check steer_model_file **(Rail Tracking Setup)** and oba_model **(Collision Avoidance Setup)** filenames are properly specified\n",
    "2. Restart Kernel and Run all Cells\n",
    "3. Go to **Display UI and Enable Controls** section at the bottom to operate AUTOBUS"
   ]
  },
  {
   "cell_type": "code",
   "execution_count": 1,
   "metadata": {},
   "outputs": [],
   "source": [
    "steer_model_file = 'best_steering_model_xy--PoolTable400.pth'\n",
    "oba_model_file = 'best_obstacle_model--NVIDIA.pth'"
   ]
  },
  {
   "cell_type": "code",
   "execution_count": 2,
   "metadata": {
    "jupyter": {
     "source_hidden": true
    }
   },
   "outputs": [
    {
     "name": "stdout",
     "output_type": "stream",
     "text": [
      "Mon Aug  3 12:56:46 2020 go\n"
     ]
    }
   ],
   "source": [
    "import time\n",
    "print(time.ctime(),'go')\n",
    "\n",
    "#####Make Robot#####\n",
    "from jetbot import Camera, bgr8_to_jpeg\n",
    "from jetbot import Robot\n",
    "robot = Robot()\n",
    "\n",
    "#####UI functions#####\n",
    "import traitlets\n",
    "import ipywidgets\n",
    "import ipywidgets.widgets as widgets\n",
    "from IPython.display import display\n",
    "\n",
    "#####Monitor Network Connection#####\n",
    "from jetbot import Heartbeat\n",
    "def handle_heartbeat_status(change):\n",
    "    if change['new'] == Heartbeat.Status.dead:\n",
    "        print('check network connection')\n",
    "heartbeat = Heartbeat(period=5)\n",
    "heartbeat.observe(handle_heartbeat_status, names='status') # attach the callback function to heartbeat status"
   ]
  },
  {
   "cell_type": "markdown",
   "metadata": {},
   "source": [
    "### Rail Tracking Setup"
   ]
  },
  {
   "cell_type": "code",
   "execution_count": 3,
   "metadata": {
    "jupyter": {
     "source_hidden": true
    }
   },
   "outputs": [
    {
     "name": "stdout",
     "output_type": "stream",
     "text": [
      "Mon Aug  3 12:57:04 2020 best_steering_model_xy--PoolTable400.pth ok\n",
      "Mon Aug  3 12:57:04 2020 ok\n"
     ]
    }
   ],
   "source": [
    "#####Rail Tracking Setup#####\n",
    "import torchvision\n",
    "import torch\n",
    "#steer_model_file = \n",
    "steer_model = torchvision.models.resnet18(pretrained=False)\n",
    "steer_model.fc = torch.nn.Linear(512, 2)\n",
    "steer_model.load_state_dict(torch.load(steer_model_file))\n",
    "steer_device = torch.device('cuda')\n",
    "steer_model = steer_model.to(steer_device)\n",
    "steer_model = steer_model.eval().half()\n",
    "print(time.ctime(),steer_model_file,'ok')\n",
    "\n",
    "import torchvision.transforms as transforms\n",
    "import torch.nn.functional as F\n",
    "import cv2\n",
    "import PIL.Image\n",
    "import numpy as np\n",
    "steer_mean = torch.Tensor([0.485, 0.456, 0.406]).cuda().half()\n",
    "steer_std = torch.Tensor([0.229, 0.224, 0.225]).cuda().half()\n",
    "def steer_preprocess(image):\n",
    "    image = PIL.Image.fromarray(image)\n",
    "    image = transforms.functional.to_tensor(image).to(steer_device).half()\n",
    "    image.sub_(steer_mean[:, None, None]).div_(steer_std[:, None, None])\n",
    "    return image[None, ...]\n",
    "\n",
    "#add the steering xy prediction to the image\n",
    "def display_xy(camera_image):\n",
    "    image = np.copy(camera_image)\n",
    "    x = x_slider.value\n",
    "    y = y_slider.value\n",
    "    x = int(x * 224 / 2 + 112)\n",
    "    y = int(y * 224 / 2 + 112)\n",
    "    image = cv2.circle(image, (x, y), 8, (0, 255, 0), 3)\n",
    "    image = cv2.circle(image, (112, 224), 8, (0, 0,255), 3)\n",
    "    image = cv2.line(image, (x,y), (112,224), (255,0,0), 3)\n",
    "    jpeg_image = bgr8_to_jpeg(image)\n",
    "    return jpeg_image\n",
    "\n",
    "print(time.ctime(),'ok')"
   ]
  },
  {
   "cell_type": "markdown",
   "metadata": {},
   "source": [
    "### Collision Avoidance Setup"
   ]
  },
  {
   "cell_type": "code",
   "execution_count": 4,
   "metadata": {
    "jupyter": {
     "source_hidden": true
    }
   },
   "outputs": [
    {
     "name": "stdout",
     "output_type": "stream",
     "text": [
      "check network connection\n",
      "Mon Aug  3 12:57:08 2020 best_obstacle_model--NVIDIA.pth ok\n",
      "Mon Aug  3 12:57:08 2020 ok\n"
     ]
    }
   ],
   "source": [
    "#####Collision Avoidance Setup#####\n",
    "import torch\n",
    "import torchvision\n",
    "\n",
    "oba_model = torchvision.models.alexnet(pretrained=False)\n",
    "oba_model.classifier[6] = torch.nn.Linear(oba_model.classifier[6].in_features, 2)\n",
    "oba_model.load_state_dict(torch.load(oba_model_file))\n",
    "oba_device = torch.device('cuda')\n",
    "oba_model = oba_model.to(oba_device)\n",
    "print(time.ctime(),oba_model_file,'ok')\n",
    "\n",
    "import cv2\n",
    "import numpy as np\n",
    "\n",
    "oba_mean = 255.0 * np.array([0.485, 0.456, 0.406])\n",
    "oba_stdev = 255.0 * np.array([0.229, 0.224, 0.225])\n",
    "oba_normalize = torchvision.transforms.Normalize(oba_mean, oba_stdev)\n",
    "def oba_preprocess(camera_value):\n",
    "    global oba_device, oba_normalize\n",
    "    x = camera_value\n",
    "    x = cv2.cvtColor(x, cv2.COLOR_BGR2RGB)\n",
    "    x = x.transpose((2, 0, 1))\n",
    "    x = torch.from_numpy(x).float()\n",
    "    x = oba_normalize(x)\n",
    "    x = x.to(oba_device)\n",
    "    x = x[None, ...]\n",
    "    return x\n",
    "\n",
    "import torch.nn.functional as F\n",
    "import time\n",
    "\n",
    "print(time.ctime(),'ok')"
   ]
  },
  {
   "cell_type": "markdown",
   "metadata": {},
   "source": [
    "### Create a function that will get called whenever the camera's value changes. "
   ]
  },
  {
   "cell_type": "code",
   "execution_count": 5,
   "metadata": {
    "jupyter": {
     "source_hidden": true
    }
   },
   "outputs": [
    {
     "name": "stdout",
     "output_type": "stream",
     "text": [
      "Mon Aug  3 12:57:08 2020 ok\n"
     ]
    }
   ],
   "source": [
    "##### Create a function that will get called whenever the camera's value changes. #####\n",
    "#This function will do the following steps\n",
    "#- Pre-process the camera image\n",
    "#- Execute the neural network\n",
    "#- Stop and prevent motion on obstacle detection\n",
    "#- Stop when jetbot reaches a station, resumes after a set time\n",
    "#- If OK to move, control steering, keep jetbot on the track\n",
    "\n",
    "#####Global vars for execute#####\n",
    "#all vars can be changed later, even while AUTOBUS is running\n",
    "angle = 0.0\n",
    "angle_last = 0.0\n",
    "mt = 0\n",
    "frame_cnt = 0\n",
    "interval = 0.1\n",
    "prob_block_stop = 0.8\n",
    "tt = time.time()\n",
    "obs_stop = False\n",
    "\n",
    "#debug vars\n",
    "steer_debug = False\n",
    "fwd_high = 0.4\n",
    "fwd_low = 0.3\n",
    "turn_high = 0.4\n",
    "turn_low = 0.3\n",
    "stutter = 0\n",
    "stutter_spd = 0.1\n",
    "\n",
    "#station stopping vars\n",
    "stopped_at_station = False #is it currently stopped at a station\n",
    "time_left_station = 0 #the time (secs from epoch) it left last station\n",
    "time_arrived_station = 0 #the time (secs from epoch) that it arrived at a station\n",
    "station_stop_wait = 30 #stop at station for x secs\n",
    "leave_station_span = 30 #the timespan (secs) it takes to leave a station (no red in sight)\n",
    "f_red = 0.3\n",
    "f_yellow = 0.1\n",
    "f_green = 0.1\n",
    "\n",
    "#Don't use time.sleep(), seems to break camera and other things\n",
    "#!!!!! Jetbot doing something with new image !!!!!\n",
    "def execute(change):\n",
    "    global angle, angle_last, mt, frame_cnt, tt, steer_debug, interval, accel, stutter, robot\n",
    "    global stutter_spd, prob_block_stop, min_inter, max_inter, fwd_high, fwd_low, turn_high, turn_low\n",
    "    global stopped_at_station, time_left_station, time_arrived_station, station_stop_wait, leave_station_span, obs_stop\n",
    "    global f_red, f_yellow, f_green\n",
    "    \n",
    "    #min time interval between each run\n",
    "    if time.time() < tt + interval:\n",
    "        return\n",
    "    tt = time.time()\n",
    "    \n",
    "    #count images read\n",
    "    frame_cnt += 1\n",
    "    \n",
    "    #hold at station\n",
    "    if stopped_at_station:\n",
    "        robot.left_motor.value = 0\n",
    "        robot.right_motor.value = 0\n",
    "        time_elapsed = time.time() - time_arrived_station\n",
    "        status_a.value = str(frame_cnt) + \" station stop \" + str(int(time_elapsed)) + \"/\" + str(station_stop_wait) + \" seconds\"\n",
    "        if time_elapsed > station_stop_wait: #leave station\n",
    "            stopped_at_station = False\n",
    "            time_left_station = time.time() #keep track of time since leaving station\n",
    "        return\n",
    "        \n",
    "    #AAAAA jetbot reads image and makes a obstacle stop decision AAAAA\n",
    "    x = change['new'] \n",
    "    x = oba_preprocess(x)\n",
    "    y = oba_model(x)\n",
    "    \n",
    "    # we apply the `softmax` function to normalize the output vector so it sums to 1 (which makes it a probability distribution)\n",
    "    y = F.softmax(y, dim=1)\n",
    "    \n",
    "    prob_blocked = float(y.flatten()[0])\n",
    "    status_b.value = str(frame_cnt) + \" obstacle prob: \" + \"{:.2f}\".format(prob_blocked)\n",
    "    if prob_blocked < 0.5:\n",
    "        obs_stop = False\n",
    "        \n",
    "    elif prob_blocked > prob_block_stop:\n",
    "        robot.left_motor.value = 0\n",
    "        robot.right_motor.value = 0\n",
    "        obs_stop = True\n",
    "        status_a.value = str(frame_cnt) + \" obstacle stop\"\n",
    "        \n",
    "    #hold on obstacle\n",
    "    if obs_stop:\n",
    "        status_a.value = str(frame_cnt) + \" obstacle stop\"\n",
    "        robot.left_motor.value = 0\n",
    "        robot.right_motor.value = 0\n",
    "        return\n",
    "    #^^^^^ jetbot finishes obstacle stop decision ^^^^^\n",
    "\n",
    "    #BBBBB jetbot reads image and makes a station stop decision BBBBB\n",
    "    image = change['new']\n",
    "    \n",
    "    #red detection\n",
    "    #cv2 hsv range for h is 0-180 instead of conventional 360, this caused issues and has been resolved\n",
    "    hsv = cv2.cvtColor(image, cv2.COLOR_BGR2HSV) \n",
    "    #lower_red1 = np.array([0,127,114]) \n",
    "    lower_red1 = np.array([0,127,114])\n",
    "    #upper_red1 = np.array([15,204,166])\n",
    "    upper_red1 = np.array([8,204,166])\n",
    "    #lower_red2 = np.array([345,127,114])\n",
    "    lower_red2 = np.array([173,127,114]) \n",
    "    #upper_red2 = np.array([360,204,166])\n",
    "    upper_red2 = np.array([180,204,166])\n",
    "    mask2 = cv2.inRange(hsv, lower_red2, upper_red2)\n",
    "    mask1 = cv2.inRange(hsv, lower_red1, upper_red1)\n",
    "    frac_red = sum(sum(mask1))/np.size(mask1)\n",
    "    frac_red2 = sum(sum(mask2))/np.size(mask2)\n",
    "    frac_red = frac_red+frac_red2\n",
    "    \n",
    "    #yellow detection\n",
    "    #lower_yellow1 = np.array([45, 127, 102])\n",
    "    lower_yellow1 = np.array([22, 127, 102])\n",
    "    #upper_yellow1 = np.array([60, 255, 153])\n",
    "    upper_yellow1 = np.array([30, 255, 153])\n",
    "    mask3 = cv2.inRange(hsv, lower_yellow1, upper_yellow1)\n",
    "    frac_yellow = sum(sum(mask3))/np.size(mask3)\n",
    "    \n",
    "    #green detection\n",
    "    #lower_green1 = np.array([115, 102, 102])\n",
    "    lower_green1 = np.array([57, 102, 102])\n",
    "    #upper_green1 = np.array([150, 255, 153])\n",
    "    upper_green1 = np.array([75, 255, 153])\n",
    "    mask4 = cv2.inRange(hsv, lower_green1, upper_green1)\n",
    "    frac_green = sum(sum(mask4))/np.size(mask4)\n",
    "    \n",
    "    #update sliders\n",
    "    red_slider.value = frac_red\n",
    "    yellow_slider.value = frac_yellow\n",
    "    green_slider.value = frac_green\n",
    "           \n",
    "    #jetbot decides to make a station stop, or not \n",
    "    if frac_red > f_red:\n",
    "        #dont't get stuck stopping in same station\n",
    "        #if time since stopping at last station is more than time it takes to leave a station...\n",
    "        if time.time() - time_left_station > leave_station_span: \n",
    "            robot.left_motor.value = 0\n",
    "            robot.right_motor.value = 0\n",
    "            stopped_at_station = True\n",
    "            time_arrived_station = time.time()\n",
    "            return\n",
    "        \n",
    "    elif frac_yellow > f_yellow:\n",
    "        status_a.value = str(frame_cnt) + \" near station slow\"\n",
    "        robot.left_motor.alpha = 0.5\n",
    "        robot.right_motor.alpha = 0.5\n",
    "        return\n",
    "        \n",
    "    elif frac_green > f_green:\n",
    "        status_a.value = str(frame_cnt) + \" resume full speed\"\n",
    "        robot.left_motor.alpha = 1\n",
    "        robot.right_motor.alpha = 1\n",
    "        \n",
    "    #^^^^^ jetbot finishes station stop decision ^^^^^\n",
    "\n",
    "\n",
    "    #CCCCC jetbot reads image and makes a steering decision CCCCC\n",
    "\n",
    "    image = change['new']\n",
    "    xy = steer_model(steer_preprocess(image)).detach().float().cpu().numpy().flatten()\n",
    "    x = xy[0]\n",
    "    y = (0.5 - xy[1]) / 2.0\n",
    "    \n",
    "    x_slider.value = x\n",
    "    y_slider.value = y\n",
    "    \n",
    "    speed_slider.value = speed_gain_slider.value\n",
    "\n",
    "    angle = np.arctan2(x, y)\n",
    "    pid = angle * steering_gain_slider.value + (angle - angle_last) * steering_dgain_slider.value\n",
    "    angle_last = angle\n",
    "\n",
    "    steering_slider.value = pid + steering_bias_slider.value\n",
    "   \n",
    "    #nnnnn use default NVIDA algo nnnnn\n",
    "    if not steer_debug:\n",
    "        robot.left_motor.value = max(min(speed_slider.value + steering_slider.value, 1.0), 0.0) *mt\n",
    "        robot.right_motor.value = max(min(speed_slider.value - steering_slider.value, 1.0), 0.0) *mt\n",
    "        status_a.value = str(frame_cnt) + \" move\"\n",
    "        return\n",
    "        \n",
    "    #xxxxx use AUTOBUS debugging algo xxxxx\n",
    "    else:\n",
    "        stutter = 1\n",
    "\n",
    "        left_motor = max(min(speed_slider.value + steering_slider.value, 1.0), 0.0) \n",
    "        right_motor = max(min(speed_slider.value - steering_slider.value, 1.0), 0.0) \n",
    "        left_slider.value = left_motor\n",
    "        right_slider.value = right_motor\n",
    "\n",
    "        #run at preset speeds\n",
    "        thres = turn_thres.value #steering value must exceed threshold to initate turning\n",
    "        if steering_slider.value > thres:\n",
    "            status_a.value = str(frame_cnt) + \" turn right\"\n",
    "            robot.left_motor.value = min(robot.left_motor.value + 0.1, turn_high) *mt\n",
    "            robot.right_motor.value = max(robot.right_motor.value - 0.1, turn_low) *mt\n",
    "            stutter_spd = max(stutter_spd - 0.02, turn_low*0.9)\n",
    "            \n",
    "        elif steering_slider.value < -thres:\n",
    "            status_a.value = str(frame_cnt) + \" turn left\"\n",
    "            robot.left_motor.value = max(robot.left_motor.value - 0.1, turn_low) *mt\n",
    "            robot.right_motor.value = min(robot.right_motor.value + 0.1, turn_high) *mt\n",
    "            stutter_spd = max(stutter_spd - 0.02, turn_low*0.9)\n",
    "\n",
    "        else: \n",
    "            status_a.value = str(frame_cnt) + \" go straight\"\n",
    "            if robot.left_motor.value != robot.right_motor.value:\n",
    "                robot.left_motor.value = robot.right_motor.value = min(robot.left_motor.value,robot.right_motor.value)\n",
    "            #initial throttle then lower to coast speed    \n",
    "            robot.left_motor.value = (robot.left_motor.value - 0.01) *mt\n",
    "            robot.right_motor.value = (robot.right_motor.value - 0.01) *mt\n",
    "            if min(robot.left_motor.value,robot.right_motor.value) < fwd_low:\n",
    "                robot.left_motor.value = robot.right_motor.value = fwd_high *mt  \n",
    "            stutter_spd = min(stutter_spd + 0.01, fwd_low*0.9)\n",
    "\n",
    "        #set adjusted motor values shown in UI\n",
    "        left_adjusted.value = robot.left_motor.value\n",
    "        right_adjusted.value = robot.right_motor.value\n",
    "        #^^^^^ jetbot finished steering decision ^^^^^\n",
    "    \n",
    "    return None\n",
    "#^^^^^ jetbot image processing ^^^^^\n",
    "\n",
    "print(time.ctime(),'ok')"
   ]
  },
  {
   "cell_type": "markdown",
   "metadata": {},
   "source": [
    "### Setup UI - camera view, buttons, etc."
   ]
  },
  {
   "cell_type": "code",
   "execution_count": 42,
   "metadata": {},
   "outputs": [
    {
     "name": "stdout",
     "output_type": "stream",
     "text": [
      "Mon Aug  3 13:05:19 2020 ok\n"
     ]
    }
   ],
   "source": [
    "#setup interface - camera view, buttons, etc\n",
    "#\n",
    "#user controlled sliders\n",
    "#1. Speed Control (speed_gain_slider): To start your JetBot increase ``speed_gain_slider`` \n",
    "#2. Steering Gain Control (steering_gain_sloder): If you see JetBot is woblling, you need to reduce ``steering_gain_slider`` till it is smooth\n",
    "#3. Steering Bias control (steering_bias_slider): If you see JetBot is biased towards extreme right or extreme left side of the track, you should control this slider till JetBot start following line or track in the center.  This accounts for motor biases as well as camera offsets\n",
    "#jetbot turns when steering value exceeds threshold (for AUTOBUS steering algo only, not in NVIDIA steering algo)\n",
    "speed_gain_slider = ipywidgets.FloatSlider(min=0, max=1, step=0.01, value=0.3, description='speed gain')\n",
    "steering_gain_slider = ipywidgets.FloatSlider(min=0, max=1, step=0.01, value=0.1, description='steering gain')\n",
    "steering_dgain_slider = ipywidgets.FloatSlider(min=0, max=1, step=0.01, value=0.1, description='steering kd')\n",
    "steering_bias_slider = ipywidgets.FloatSlider(min=-1, max=1, step=0.01, value=0, description='steering bias')\n",
    "turn_thres = ipywidgets.FloatSlider(min=0, max=1, step=0.01, value=0.25, description='steer thres') #turn threshold\n",
    "#\n",
    "#buttons\n",
    "button_layout = ipywidgets.Layout(width='160px', height='35px')\n",
    "start_button = ipywidgets.Button(description='START', button_style='success', layout=button_layout)\n",
    "start_button.on_click(lambda x: start())\n",
    "#\n",
    "stop_button = ipywidgets.Button(description='STOP', button_style='danger', layout=button_layout)\n",
    "stop_button.on_click(lambda x: stop())\n",
    "#\n",
    "camera_button = ipywidgets.Button(description='CAMERA ON',layout=button_layout)\n",
    "camera_button.on_click(lambda x: toggle_camera())\n",
    "#\n",
    "motor_button = ipywidgets.Button(description='MOTOR OFF',layout=button_layout)\n",
    "motor_button.on_click(lambda x: toggle_motor())\n",
    "#\n",
    "stutter_button = ipywidgets.Button(description='SLOW OFF',layout=button_layout)\n",
    "stutter_button.on_click(lambda x: toggle_stutter())\n",
    "#\n",
    "#read only sliders\n",
    "x_slider = ipywidgets.FloatSlider(min=-1, max=1, step=0.01, value=0, description='x')\n",
    "y_slider = ipywidgets.FloatSlider(min=0, max=1, step=0.01, value=0, orientation='vertical', description='y')\n",
    "steering_slider = ipywidgets.FloatSlider(min=-1, max=1, step=0.01, description='steering')\n",
    "speed_slider = ipywidgets.FloatSlider(min=0, max=1, step=0.01, orientation='vertical', description='speed')\n",
    "#\n",
    "left_slider = ipywidgets.FloatSlider(min=0, max=1, step=0.01, orientation='vertical', description='L nvidia')\n",
    "right_slider = ipywidgets.FloatSlider(min=0, max=1,step=0.01, orientation='vertical', description='R nvidia')\n",
    "#\n",
    "left_adjusted = ipywidgets.FloatSlider(min=0, max=1, step=0.01, orientation='vertical', description='L adjusted')\n",
    "right_adjusted = ipywidgets.FloatSlider(min=0, max=1, step=0.01, orientation='vertical', description='R adjusted')\n",
    "#\n",
    "#The x and y sliders will display the predicted x, y values.\n",
    "#The steering slider will display our estimated steering value.  Please remember, this value isn't the actual \n",
    "#angle of the target, but simply a value that is nearly proportional.  When the actual angle is ``0``, this \n",
    "#will be zero, and it will increase / decrease with the actual angle.  \n",
    "#\n",
    "red_slider = ipywidgets.FloatSlider(min=0, max=1.0, description='red')\n",
    "#display(red_slider)\n",
    "yellow_slider = ipywidgets.FloatSlider(min=0, max=1.0, description='yellow')\n",
    "#display(yellow_slider)\n",
    "green_slider = ipywidgets.FloatSlider(min=0, max=1.0, description='green')\n",
    "#display(green_slider)\n",
    "#\n",
    "#arrange widgets in UI\n",
    "status_a = ipywidgets.Textarea(value = \"wait\")\n",
    "status_b = ipywidgets.Textarea(value = \"wait\")\n",
    "status_c = ipywidgets.Textarea(value = \"wait\")\n",
    "sliders = widgets.VBox([speed_gain_slider, steering_gain_slider, steering_dgain_slider, steering_bias_slider,turn_thres])\n",
    "buttons = widgets.VBox([stop_button,camera_button,motor_button,stutter_button])\n",
    "#buttons = widgets.VBox([start_button,stop_button,camera_button,motor_button,stutter_button])\n",
    "y_sets = ipywidgets.HBox([y_slider,left_slider,right_slider,left_adjusted,right_adjusted])\n",
    "x_sets = widgets.VBox([x_slider, steering_slider, ipywidgets.Label(\"a) action\"), status_a,\n",
    "                       ipywidgets.Label(\"b) obstacle detect\"), status_b, \n",
    "                       ipywidgets.Label(\"c) color detect\"), status_c, \n",
    "                       red_slider, yellow_slider, green_slider])\n",
    "#\n",
    "steer_debug = False\n",
    "if not steer_debug: #hide unused controls\n",
    "    turn_thres.layout.visibility = 'hidden'\n",
    "    left_adjusted.layout.visibility = 'hidden'\n",
    "    right_adjusted.layout.visibility = 'hidden'\n",
    "#\n",
    "cam_toggle = 1 #enables/disables camera, may improve performance\n",
    "def toggle_camera():\n",
    "    global cam_toggle\n",
    "    if cam_toggle:\n",
    "        camera_link.unlink()\n",
    "        cam_toggle = 0\n",
    "        camera_button.description = \"CAMERA OFF\"\n",
    "    else:\n",
    "        camera_link.link()\n",
    "        cam_toggle = 1\n",
    "        camera_button.description = \"CAMERA ON\"\n",
    "#\n",
    "mt = 0 #start/stop motor\n",
    "def toggle_motor():\n",
    "    global mt\n",
    "    if mt: \n",
    "        mt = 0\n",
    "        motor_button.description = \"MOTOR OFF\"\n",
    "    else: \n",
    "        mt = 1\n",
    "        motor_button.description = \"MOTOR ON\"\n",
    "#       \n",
    "stutter = 0 #enable/disable stutter-steps\n",
    "def toggle_stutter():\n",
    "    global stutter\n",
    "    if stutter: \n",
    "        stutter = 0\n",
    "        stutter_button.description = \"SLOW OFF\"\n",
    "    else: \n",
    "        stutter = 1\n",
    "        stutter_button.description = \"SLOW ON\"\n",
    "\n",
    "#\n",
    "#start processing images\n",
    "def start():\n",
    "    execute({'new': camera.value})\n",
    "    camera.observe(execute, names='value')\n",
    "#\n",
    "#stop jetbot, stop camera\n",
    "def stop():\n",
    "    time.sleep(0.1)  # add a small sleep to make sure frames have finished processing\n",
    "    camera.unobserve_all()\n",
    "    robot.stop()\n",
    "    camera.stop()\n",
    "#\n",
    "print(time.ctime(),'ok')"
   ]
  },
  {
   "cell_type": "markdown",
   "metadata": {},
   "source": [
    "### Display UI and Enable Controls\n",
    "Note: to restart AUTOBUS after RED STOP BUTTON, rerun code block below"
   ]
  },
  {
   "cell_type": "code",
   "execution_count": 43,
   "metadata": {},
   "outputs": [
    {
     "name": "stdout",
     "output_type": "stream",
     "text": [
      "Mon Aug  3 13:05:20 2020 ok\n",
      "vvvvvvvvvvvvvvvvvvvvvvvvvvvvvvvvvvvvvvvvvvvvvvvvvvv AUTOBUS UI vvvvvvvvvvvvvvvvvvvvvvvvvvvvvvvvvvvvvvvvvvvvvvvvvvv\n"
     ]
    },
    {
     "data": {
      "application/vnd.jupyter.widget-view+json": {
       "model_id": "b72ff277fd714fa9ad59665fc1b6c720",
       "version_major": 2,
       "version_minor": 0
      },
      "text/plain": [
       "HBox(children=(Image(value=b'\\xff\\xd8\\xff\\xe0\\x00\\x10JFIF\\x00\\x01\\x01\\x00\\x00\\x01\\x00\\x01\\x00\\x00\\xff\\xdb\\x00C…"
      ]
     },
     "metadata": {},
     "output_type": "display_data"
    },
    {
     "data": {
      "application/vnd.jupyter.widget-view+json": {
       "model_id": "f309092ba67d449ca8f1e51b1a854db6",
       "version_major": 2,
       "version_minor": 0
      },
      "text/plain": [
       "HBox(children=(HBox(children=(FloatSlider(value=0.0, description='y', max=1.0, orientation='vertical', step=0.…"
      ]
     },
     "metadata": {},
     "output_type": "display_data"
    },
    {
     "name": "stdout",
     "output_type": "stream",
     "text": [
      "red: station stop; yellow: near station slow; green: resume normal speed\n",
      "^^^^^^^^^^^^^^^^^^^^^^^^^^^^^^^^^^^^^^^^^^^^^^^^^^^ AUTOBUS UI ^^^^^^^^^^^^^^^^^^^^^^^^^^^^^^^^^^^^^^^^^^^^^^^^^^^^\n"
     ]
    }
   ],
   "source": [
    "#make camera\n",
    "try: camera.stop()\n",
    "except: print('check camera')\n",
    "fps = 10\n",
    "camera = Camera.instance(width=224, height=224, capture_width=224, capture_height=224, fps=fps)\n",
    "image_widget = widgets.Image(format='jpeg', width=224, height=224)\n",
    "camera_link = traitlets.dlink((camera, 'value'), (image_widget, 'value'), transform=display_xy)\n",
    "camera.start()\n",
    "#\n",
    "#reset vars\n",
    "frame_cnt = 0 #reset frame count\n",
    "time_left_station = 0 #the time (secs from epoch) it left last station\n",
    "#\n",
    "#!!!!! adjustable vars !!!!!\n",
    "mt = 0 #0 starts jetbot without moving, hit motor button to start moving\n",
    "stutter = 0 #0 disable start stop stutter movement\n",
    "#robot.left_motor.alpha = 1 #scales motor speed by this, 1 is no change\n",
    "#robot.right_motor.alpha = 1 \n",
    "interval = 1.0/fps #set interval between execute's same as frame rate\n",
    "prob_block_stop = 0.95 #only stop if prob is higher than this\n",
    "station_stop_wait = 10 #stop at station for x secs\n",
    "leave_station_span = 30 #the timespan (secs) it takes to leave a station (no red in sight)\n",
    "f_red = 0.4 #color detection threshold\n",
    "f_yellow = 0.05\n",
    "f_green = 0.1\n",
    "#^^^^^ adjustable vars ^^^^^\n",
    "#\n",
    "#run jetbot\n",
    "execute({'new': camera.value}) #test single image run\n",
    "start() #start jetbot\n",
    "print(time.ctime(),'ok')\n",
    "#\n",
    "#show UI\n",
    "print(\"vvvvvvvvvvvvvvvvvvvvvvvvvvvvvvvvvvvvvvvvvvvvvvvvvvv AUTOBUS UI vvvvvvvvvvvvvvvvvvvvvvvvvvvvvvvvvvvvvvvvvvvvvvvvvvv\")\n",
    "display(widgets.HBox([image_widget,sliders,buttons]))\n",
    "display(ipywidgets.HBox([y_sets,x_sets]))\n",
    "print(\"red: station stop; yellow: near station slow; green: resume normal speed\")\n",
    "print(\"^^^^^^^^^^^^^^^^^^^^^^^^^^^^^^^^^^^^^^^^^^^^^^^^^^^ AUTOBUS UI ^^^^^^^^^^^^^^^^^^^^^^^^^^^^^^^^^^^^^^^^^^^^^^^^^^^^\")\n",
    "#\n",
    "#IMPORTANT: The camera must be re-initialized after it stops\n",
    "#Rerun this block to reinitialize camera\n",
    "#First run takes a few min to start up"
   ]
  },
  {
   "cell_type": "markdown",
   "metadata": {},
   "source": [
    "### Debug"
   ]
  },
  {
   "cell_type": "code",
   "execution_count": 44,
   "metadata": {},
   "outputs": [],
   "source": [
    "#stop()"
   ]
  },
  {
   "cell_type": "code",
   "execution_count": 45,
   "metadata": {},
   "outputs": [],
   "source": [
    "#camera.stop()"
   ]
  },
  {
   "cell_type": "code",
   "execution_count": 46,
   "metadata": {},
   "outputs": [],
   "source": [
    "#robot.stop()"
   ]
  },
  {
   "cell_type": "code",
   "execution_count": 34,
   "metadata": {},
   "outputs": [],
   "source": [
    "#execute({'new': camera.value})\n",
    "#camera.observe(execute, names='value')"
   ]
  },
  {
   "cell_type": "code",
   "execution_count": 35,
   "metadata": {},
   "outputs": [],
   "source": [
    "#start()"
   ]
  },
  {
   "cell_type": "code",
   "execution_count": 36,
   "metadata": {},
   "outputs": [],
   "source": [
    "steer_debug = False #False = default NVIDIA steering; True = custom; don't use if NVIDIA steering code works fine\n",
    "#????? steering debug vars ????? only in effect if steer_debug = True\n",
    "if steer_debug:\n",
    "    turn_high = 0.4\n",
    "    turn_low = 0.3\n",
    "    turn_thres.value = 0.3 #only used if steer_debug=True\n",
    "    fwd_high = 0.37\n",
    "    fwd_low = 0.33\n",
    "    interval = 0.1\n",
    "if steer_debug:\n",
    "    turn_thres.layout.visibility = 'visible'\n",
    "    left_adjusted.layout.visibility = 'visible'\n",
    "    right_adjusted.layout.visibility = 'visible'\n",
    "else:\n",
    "    turn_thres.layout.visibility = 'hidden'\n",
    "    left_adjusted.layout.visibility = 'hidden'\n",
    "    right_adjusted.layout.visibility = 'hidden'\n",
    "#^^^^^ steering debug vars ^^^^^ only in effect if steer_debug = True"
   ]
  },
  {
   "cell_type": "code",
   "execution_count": null,
   "metadata": {},
   "outputs": [],
   "source": []
  },
  {
   "cell_type": "code",
   "execution_count": null,
   "metadata": {},
   "outputs": [],
   "source": []
  }
 ],
 "metadata": {
  "kernelspec": {
   "display_name": "Python 3",
   "language": "python",
   "name": "python3"
  },
  "language_info": {
   "codemirror_mode": {
    "name": "ipython",
    "version": 3
   },
   "file_extension": ".py",
   "mimetype": "text/x-python",
   "name": "python",
   "nbconvert_exporter": "python",
   "pygments_lexer": "ipython3",
   "version": "3.6.9"
  }
 },
 "nbformat": 4,
 "nbformat_minor": 4
}
