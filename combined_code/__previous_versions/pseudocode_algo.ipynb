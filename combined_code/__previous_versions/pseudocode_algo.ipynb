{
 "cells": [
  {
   "cell_type": "code",
   "execution_count": 1,
   "metadata": {},
   "outputs": [],
   "source": [
    "###import libraries, create helper functions, *.pth files, etc.\n",
    "import "
   ]
  },
  {
   "cell_type": "code",
   "execution_count": 3,
   "metadata": {},
   "outputs": [],
   "source": [
    "###setup interface - camera view, buttons, etc."
   ]
  },
  {
   "cell_type": "code",
   "execution_count": 4,
   "metadata": {},
   "outputs": [],
   "source": [
    "###execute function\n",
    "\n",
    "#jetbot sees new frame\n",
    "def execute(change):\n",
    "\n",
    "    #camera image receieved\n",
    "    image = change['new']\n",
    "    \n",
    "    #run image through things...\n",
    "    \n",
    "    #obstacle avoidance---\n",
    "    #result = obstacle_preprocess(image)\n",
    "    #if obstacle_probabily > x:\n",
    "        #stop\n",
    "        #return\n",
    "\n",
    "    #stops---\n",
    "    #if time.time() > time_since_last_stop + x\n",
    "        #looking_for_stop = 1\n",
    "    \n",
    "    #result = stop_preprocess(image)\n",
    "    #if looking_for_stop\n",
    "    #if station_probabily > x:\n",
    "        #stop for x secs\n",
    "        #time.sleep(x)\n",
    "        #disable stopping at same station for x secs\n",
    "        #looking_for station = 0\n",
    "        #time_since_last_stop = time.time()\n",
    "        #return\n",
    "        \n",
    "    #move---\n",
    "    #result = move_preprocess(image)    \n",
    "    #if left\n",
    "        #turn left\n",
    "    #if right\n",
    "        #turn right\n",
    "    #else\n",
    "        #go forward  "
   ]
  },
  {
   "cell_type": "code",
   "execution_count": null,
   "metadata": {},
   "outputs": [],
   "source": [
    "#run code when new image is received\n",
    "#execute({'new': camera.value})\n",
    "#camera.observe(execute, names='value')"
   ]
  }
 ],
 "metadata": {
  "kernelspec": {
   "display_name": "Python 3",
   "language": "python",
   "name": "python3"
  },
  "language_info": {
   "codemirror_mode": {
    "name": "ipython",
    "version": 3
   },
   "file_extension": ".py",
   "mimetype": "text/x-python",
   "name": "python",
   "nbconvert_exporter": "python",
   "pygments_lexer": "ipython3",
   "version": "3.6.9"
  }
 },
 "nbformat": 4,
 "nbformat_minor": 4
}
